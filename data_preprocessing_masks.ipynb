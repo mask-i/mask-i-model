{
 "cells": [
  {
   "cell_type": "code",
   "execution_count": 15,
   "metadata": {
    "tags": [
     "outputPrepend",
     "outputPrepend",
     "outputPrepend",
     "outputPrepend",
     "outputPrepend",
     "outputPrepend",
     "outputPrepend",
     "outputPrepend",
     "outputPrepend",
     "outputPrepend",
     "outputPrepend",
     "outputPrepend"
    ]
   },
   "outputs": [
    {
     "output_type": "stream",
     "name": "stdout",
     "text": "c:\\Users\\Admin\\Documents\\Python\\TensorFlow\\Keras\\Mask Detection\\MaskImages\n225\n"
    }
   ],
   "source": [
    "import numpy as np\n",
    "import matplotlib.pyplot as plt\n",
    "import os\n",
    "import cv2\n",
    "import random\n",
    "\n",
    "CATEGORIES = ['with_mask', 'without_mask']\n",
    "DATADIR = os.getcwd() + '\\MaskImages'\n",
    "print(DATADIR)\n",
    "\n",
    "training_data = []\n",
    "IMG_SIZE = 100\n",
    "\n",
    "def create_training_data():\n",
    "    for category in CATEGORIES:\n",
    "        path = os.path.join(DATADIR, category)\n",
    "        # makes class_num equal 1 or 0 wether its a dog or cat\n",
    "        class_num = CATEGORIES.index(category)\n",
    "        for img in os.listdir(path):\n",
    "            try:\n",
    "                # full path to image (os.path.join(path,img))\n",
    "                # converts to array (cv2.imread)\n",
    "                img_array = cv2.imread(os.path.join(path,img), cv2.IMREAD_GRAYSCALE)\n",
    "                # resized image\n",
    "                new_array = cv2.resize(img_array,(IMG_SIZE,IMG_SIZE))\n",
    "                # adds the img to the array with the number representing wether its a dog or cat, 1 or 0 based on the index of categories\n",
    "                training_data.append([new_array, class_num])\n",
    "            except Exception as e:\n",
    "                pass\n",
    "\n",
    "create_training_data()\n",
    "print(len(training_data))\n",
    "\n",
    "# need to shuffle because right not training_data is ordered by categories since it was appended that was in create_training_data\n",
    "# this prevents the neural network from first learning all about dogs, then switching to cats and now only learning about cats\n",
    "# gives it a bias learning method\n",
    "random.shuffle(training_data)"
   ]
  },
  {
   "cell_type": "code",
   "execution_count": 16,
   "metadata": {},
   "outputs": [],
   "source": [
    "# capital X is featured set\n",
    "X = []\n",
    "# lowercase y is labels\n",
    "y = []"
   ]
  },
  {
   "cell_type": "code",
   "execution_count": 17,
   "metadata": {},
   "outputs": [],
   "source": [
    "for features, label in training_data:\n",
    "    X.append(features)\n",
    "    y.append(label)\n",
    "\n",
    "# x has to be a numpy array \n",
    "# 1st param is how many features we have (-1) means any amount\n",
    "# 2nd/3rd param is size of img\n",
    "# 4th 1 because it is a grey scaled\n",
    "X = np.array(X).reshape(-1, IMG_SIZE, IMG_SIZE, 1)"
   ]
  },
  {
   "cell_type": "code",
   "execution_count": 18,
   "metadata": {},
   "outputs": [],
   "source": [
    "# saving / loading dataset\n",
    "# saving features\n",
    "np.save('Mask_features_v2.npy', X)\n",
    "# loading features\n",
    "X = np.load('Mask_features_v2.npy')\n",
    "\n",
    "# saving labels\n",
    "np.save('Mask_labels_v2.npy', y)\n",
    "# loading labels\n",
    "y = np.load('Mask_labels_v2.npy')"
   ]
  },
  {
   "cell_type": "code",
   "execution_count": null,
   "metadata": {},
   "outputs": [],
   "source": []
  }
 ],
 "metadata": {
  "language_info": {
   "codemirror_mode": {
    "name": "ipython",
    "version": 3
   },
   "file_extension": ".py",
   "mimetype": "text/x-python",
   "name": "python",
   "nbconvert_exporter": "python",
   "pygments_lexer": "ipython3",
   "version": "3.8.2-final"
  },
  "orig_nbformat": 2,
  "kernelspec": {
   "name": "python38264bit6d69dc1561304dfe9826749846f97dc6",
   "display_name": "Python 3.8.2 64-bit"
  }
 },
 "nbformat": 4,
 "nbformat_minor": 2
}